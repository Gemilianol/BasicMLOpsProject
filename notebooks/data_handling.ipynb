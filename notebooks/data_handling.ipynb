{
 "cells": [
  {
   "cell_type": "markdown",
   "metadata": {},
   "source": [
    "# **Inflation Prediction Pipeline with MLOps Focus**\n",
    "\n",
    "This project aims to develop an MLOps pipeline for predicting inflation rates in Argentina. The primary focus is on building a robust production pipeline rather than solely optimizing the model's predictive accuracy. To achieve this, the project integrates several key macroeconomic variables known to influence inflation:\n",
    "\n",
    "- Official exchange rate  \n",
    "- Informal (blue) exchange rate\n",
    "- Inflation  \n",
    "- Monetary supply (M2)  \n",
    "- Interest rate  \n",
    "- Commodity prices (e.g., crude oil)  \n",
    "\n",
    "\n",
    "The data for this analysis was sourced primarily from the **Central Bank of Argentina (BCRA)**, except for the informal exchange rate (\"blue dollar\"), which was obtained from **Ámbito Financiero**, a trusted financial news platform.  \n",
    "\n",
    "By leveraging these variables, the pipeline demonstrates how machine learning can be effectively applied to track and predict inflation trends in real-world economic scenarios.\n"
   ]
  },
  {
   "cell_type": "code",
   "execution_count": 1,
   "metadata": {},
   "outputs": [],
   "source": [
    "import pandas as pd"
   ]
  },
  {
   "cell_type": "code",
   "execution_count": 8,
   "metadata": {},
   "outputs": [
    {
     "data": {
      "text/plain": [
       "Mes\n",
       "2002-03      2.3989\n",
       "2002-04      2.8551\n",
       "2002-05      3.3287\n",
       "2002-06      3.6213\n",
       "2002-07      3.6071\n",
       "             ...   \n",
       "2024-06    903.7794\n",
       "2024-07    923.7652\n",
       "2024-08    942.9204\n",
       "2024-09    961.8254\n",
       "2024-10    981.5682\n",
       "Freq: M, Name: Tipo de cambio nominal promedio mensual, Length: 272, dtype: float64"
      ]
     },
     "execution_count": 8,
     "metadata": {},
     "output_type": "execute_result"
    }
   ],
   "source": [
    "# Official exchange rate\n",
    "er = pd.read_csv(\"../data/raw/exchange_rate.csv\", sep=\";\")\n",
    "\n",
    "# Mapping months from Spanish to English: \n",
    "month_map = {\n",
    "    \"ene\": \"Jan\", \"feb\": \"Feb\", \"mar\": \"Mar\", \"abr\": \"Apr\", \"may\": \"May\", \"jun\": \"Jun\",\n",
    "    \"jul\": \"Jul\", \"ago\": \"Aug\", \"sep\": \"Sep\", \"oct\": \"Oct\", \"nov\": \"Nov\", \"dic\": \"Dec\"\n",
    "}\n",
    "\n",
    "er[\"Mes\"] = er[\"Mes\"].replace(month_map, regex=True)\n",
    "\n",
    "# Convert the Date Column to the correct format:\n",
    "er[\"Mes\"] = pd.to_datetime(er[\"Mes\"], format=\"%b-%y\", errors=\"coerce\")\n",
    "\n",
    "# Set Index:\n",
    "er.set_index(\"Mes\", inplace=True)\n",
    "\n",
    "# Serie declaration:\n",
    "s1 = er[\"Tipo de cambio nominal promedio mensual\"]\n",
    "\n",
    "# Original index to Montly index:\n",
    "s1.index = s1.index.to_period('M')\n",
    "\n",
    "#Serie check:\n",
    "s1"
   ]
  },
  {
   "cell_type": "code",
   "execution_count": 10,
   "metadata": {},
   "outputs": [
    {
     "data": {
      "text/plain": [
       "Fecha\n",
       "2002-01       1.800\n",
       "2002-02       2.060\n",
       "2002-03       2.440\n",
       "2002-04       2.930\n",
       "2002-05       3.365\n",
       "             ...   \n",
       "2024-07    1437.500\n",
       "2024-08    1355.000\n",
       "2024-09    1252.500\n",
       "2024-10    1215.000\n",
       "2024-11    1135.000\n",
       "Freq: M, Name: Venta, Length: 275, dtype: float64"
      ]
     },
     "execution_count": 10,
     "metadata": {},
     "output_type": "execute_result"
    }
   ],
   "source": [
    "# Informal (blue) exchange rate\n",
    "ier = pd.read_csv(\"../data/raw/informal_exchange_rate.csv\", sep=\";\")\n",
    "\n",
    "# Convert the Date Column to the correct format:\n",
    "ier[\"Fecha\"] = pd.to_datetime(ier[\"Fecha\"], format=\"%d/%m/%Y\", errors=\"coerce\")\n",
    "\n",
    "# Replacing the commas by dots in order to convert the columns to float values:\n",
    "ier[\"Compra\"] = ier[\"Compra\"].str.replace(\",\", \".\").astype(float)\n",
    "ier[\"Venta\"] = ier[\"Venta\"].str.replace(\",\", \".\").astype(float)\n",
    "\n",
    "# Set index\n",
    "ier.set_index(\"Fecha\", inplace=True)\n",
    "\n",
    "# Convert the serie from daily to montly data taking in account the median values:\n",
    "s2 = ier[\"Venta\"].resample(\"ME\").median()\n",
    "\n",
    "# Original index to Montly index:\n",
    "s2.index = s2.index.to_period('M')\n",
    "\n",
    "s2\n"
   ]
  },
  {
   "cell_type": "code",
   "execution_count": 11,
   "metadata": {},
   "outputs": [
    {
     "data": {
      "text/plain": [
       "Fecha\n",
       "1943-02   -0.6\n",
       "1943-03    1.6\n",
       "1943-04    0.7\n",
       "1943-05   -0.9\n",
       "1943-06    0.1\n",
       "          ... \n",
       "2024-06    4.6\n",
       "2024-07    4.0\n",
       "2024-08    4.2\n",
       "2024-09    3.5\n",
       "2024-10    2.7\n",
       "Freq: M, Name: Valor, Length: 981, dtype: float64"
      ]
     },
     "execution_count": 11,
     "metadata": {},
     "output_type": "execute_result"
    }
   ],
   "source": [
    "# Inflation\n",
    "inflation = pd.read_csv(\"../data/raw/inflation_data.csv\", sep=\";\")\n",
    "\n",
    "# Convert the Date Column to the correct format:\n",
    "inflation[\"Fecha\"] = pd.to_datetime(inflation[\"Fecha\"], format=\"%d/%m/%Y\", errors=\"coerce\")\n",
    "\n",
    "# Replacing the commas by dots in order to convert the column to float values:\n",
    "inflation[\"Valor\"] = inflation[\"Valor\"].str.replace(\",\", \".\").astype(float)\n",
    "\n",
    "# Set index\n",
    "inflation.set_index(\"Fecha\", inplace=True)\n",
    "\n",
    "# Serie declaration:\n",
    "s3 = inflation[\"Valor\"]\n",
    "\n",
    "# Original index to Montly index:\n",
    "s3.index = s3.index.to_period('M')\n",
    "\n",
    "s3"
   ]
  },
  {
   "cell_type": "code",
   "execution_count": 13,
   "metadata": {},
   "outputs": [
    {
     "data": {
      "text/plain": [
       "Fecha\n",
       "2004-02     56.20\n",
       "2004-03     59.50\n",
       "2004-04     62.75\n",
       "2004-05     62.30\n",
       "2004-06     56.75\n",
       "            ...  \n",
       "2024-07    196.70\n",
       "2024-08    179.00\n",
       "2024-09    159.40\n",
       "2024-10    126.00\n",
       "2024-11    107.30\n",
       "Freq: M, Name: Valor, Length: 250, dtype: float64"
      ]
     },
     "execution_count": 13,
     "metadata": {},
     "output_type": "execute_result"
    }
   ],
   "source": [
    "# Monetary supply (M2)\n",
    "m2 = pd.read_csv(\"../data/raw/M2_variation.csv\", sep=\";\")\n",
    "\n",
    "# Convert the Date Column to the correct format:\n",
    "m2[\"Fecha\"] = pd.to_datetime(m2[\"Fecha\"], format=\"%d/%m/%Y\", errors=\"coerce\")\n",
    "\n",
    "# Replacing the commas by dots in order to convert the column to float values:\n",
    "m2[\"Valor\"] = m2[\"Valor\"].str.replace(\",\", \".\").astype(float)\n",
    "\n",
    "# Set index\n",
    "m2.set_index(\"Fecha\", inplace=True)\n",
    "\n",
    "# Convert the serie from daily to montly data taking in account the median values:\n",
    "s4 = m2[\"Valor\"].resample(\"ME\").median()\n",
    "\n",
    "# Original index to Montly index:\n",
    "s4.index = s4.index.to_period('M')\n",
    "\n",
    "s4"
   ]
  },
  {
   "cell_type": "code",
   "execution_count": 14,
   "metadata": {},
   "outputs": [
    {
     "data": {
      "text/plain": [
       "Fecha\n",
       "1992-01    17.28\n",
       "1992-02    15.69\n",
       "1992-03    15.09\n",
       "1992-04    15.15\n",
       "1992-05    15.33\n",
       "           ...  \n",
       "2024-07    35.63\n",
       "2024-08    37.54\n",
       "2024-09    38.21\n",
       "2024-10    39.00\n",
       "2024-11    35.93\n",
       "Freq: M, Name: Valor, Length: 395, dtype: float64"
      ]
     },
     "execution_count": 14,
     "metadata": {},
     "output_type": "execute_result"
    }
   ],
   "source": [
    "# Interest rate\n",
    "interest = pd.read_csv(\"../data/raw/interest_rate.csv\", sep=\";\")\n",
    "\n",
    "# Convert the Date Column to the correct format:\n",
    "interest[\"Fecha\"] = pd.to_datetime(interest[\"Fecha\"], format=\"%d/%m/%Y\", errors=\"coerce\")\n",
    "\n",
    "# Replacing the commas by dots in order to convert the column to float values:\n",
    "interest[\"Valor\"] = interest[\"Valor\"].str.replace(\",\", \".\").astype(float)\n",
    "\n",
    "# Set index\n",
    "interest.set_index(\"Fecha\", inplace=True)\n",
    "\n",
    "# Convert the serie from daily to montly data taking in account the median values:\n",
    "s5 = interest[\"Valor\"].resample(\"ME\").median()\n",
    "\n",
    "# Original index to Montly index:\n",
    "s5.index = s5.index.to_period('M')\n",
    "\n",
    "s5"
   ]
  },
  {
   "cell_type": "code",
   "execution_count": 19,
   "metadata": {},
   "outputs": [
    {
     "data": {
      "text/plain": [
       "(Período\n",
       " 1997-01    154.6\n",
       " 1997-02    150.8\n",
       " 1997-03    153.3\n",
       " 1997-04    149.9\n",
       " 1997-05    149.3\n",
       "            ...  \n",
       " 2024-06    268.0\n",
       " 2024-07    262.3\n",
       " 2024-08    249.2\n",
       " 2024-09    250.3\n",
       " 2024-10    256.6\n",
       " Freq: M, Name: IPMP (dic-01=100), Length: 334, dtype: float64,\n",
       " Período\n",
       " 1997-01    146.9\n",
       " 1997-02    148.0\n",
       " 1997-03    155.5\n",
       " 1997-04    156.0\n",
       " 1997-05    150.6\n",
       "            ...  \n",
       " 2024-06    218.4\n",
       " 2024-07    210.9\n",
       " 2024-08    198.8\n",
       " 2024-09    202.1\n",
       " 2024-10    206.7\n",
       " Freq: M, Name: IPMP Agropecuario (dic-01=100), Length: 334, dtype: float64,\n",
       " Período\n",
       " 1997-01    134.4\n",
       " 1997-02    133.5\n",
       " 1997-03    136.8\n",
       " 1997-04    135.1\n",
       " 1997-05    136.4\n",
       "            ...  \n",
       " 2024-06    459.7\n",
       " 2024-07    463.4\n",
       " 2024-08    472.6\n",
       " 2024-09    489.9\n",
       " 2024-10    515.0\n",
       " Freq: M, Name: IPMP Metales (dic-01=100), Length: 334, dtype: float64,\n",
       " Período\n",
       " 1997-01    126.2\n",
       " 1997-02    112.0\n",
       " 1997-03    103.3\n",
       " 1997-04     93.9\n",
       " 1997-05    102.9\n",
       "            ...  \n",
       " 2024-06    428.1\n",
       " 2024-07    442.8\n",
       " 2024-08    418.8\n",
       " 2024-09    385.2\n",
       " 2024-10    393.9\n",
       " Freq: M, Name: IPMP Petróleo (dic-01=100), Length: 334, dtype: float64)"
      ]
     },
     "execution_count": 19,
     "metadata": {},
     "output_type": "execute_result"
    }
   ],
   "source": [
    "# Commodity prices\n",
    "ipmp = pd.read_csv(\"../data/raw/IPMP.csv\", sep=\";\")\n",
    "\n",
    "# Replace the new line by an space in columns' name:\n",
    "ipmp.columns = ipmp.columns.str.replace(r'\\n', ' ', regex=True)\n",
    "\n",
    "# Mapping months from Spanish to English: \n",
    "ipmp[\"Período\"] = ipmp[\"Período\"].replace(month_map, regex=True)\n",
    "\n",
    "# Convert the Date Column to the correct format:\n",
    "ipmp[\"Período\"] = pd.to_datetime(ipmp[\"Período\"], format=\"%b-%y\", errors=\"coerce\")\n",
    "\n",
    "# Set Index:\n",
    "ipmp.set_index(\"Período\", inplace=True)\n",
    "\n",
    "# Original index to Montly index:\n",
    "ipmp.index = ipmp.index.to_period('M')\n",
    "\n",
    "# Series Declaration:\n",
    "s6 = ipmp['IPMP (dic-01=100)']\n",
    "s7 = ipmp['IPMP Agropecuario (dic-01=100)']\n",
    "s8 = ipmp['IPMP Metales (dic-01=100)']\n",
    "s9 = ipmp['IPMP Petróleo (dic-01=100)']\n",
    "\n",
    "s6, s7, s8, s9"
   ]
  },
  {
   "cell_type": "code",
   "execution_count": 20,
   "metadata": {},
   "outputs": [
    {
     "name": "stdout",
     "output_type": "stream",
     "text": [
      "Dataset combinado y limpio:\n",
      "         Official Exchange Rate  Informal Exchange Rate  Inflation  \\\n",
      "2004-02                  2.9319                    2.94        0.1   \n",
      "2004-03                  2.8976                    2.92        0.6   \n",
      "2004-04                  2.8359                    2.84        0.9   \n",
      "2004-05                  2.9197                    2.93        0.7   \n",
      "2004-06                  2.9603                    2.97        0.6   \n",
      "\n",
      "         Monetary Supply (M2)  Interest Rate   IPMP  IPMP Agropecuario  \\\n",
      "2004-02                 56.20          2.265  167.8              167.4   \n",
      "2004-03                 59.50          2.400  183.7              184.7   \n",
      "2004-04                 62.75          2.100  184.5              187.0   \n",
      "2004-05                 62.30          2.420  181.9              180.8   \n",
      "2004-06                 56.75          2.440  172.3              170.2   \n",
      "\n",
      "         IPMP Metales  IPMP Petróleo  \n",
      "2004-02         164.9          165.0  \n",
      "2004-03         169.9          180.5  \n",
      "2004-04         166.9          177.7  \n",
      "2004-05         153.2          201.0  \n",
      "2004-06         153.7          188.2  \n"
     ]
    }
   ],
   "source": [
    "#From Series to Dataframe:\n",
    "series = [s1, s2, s3, s4, s5, s6, s7, s8, s9]\n",
    "\n",
    "data = pd.concat(series, axis=1)\n",
    "\n",
    "# Columns' names:\n",
    "data.columns = ['Official Exchange Rate', 'Informal Exchange Rate', 'Inflation', 'Monetary Supply (M2)', 'Interest Rate', \n",
    "                       'IPMP', 'IPMP Agropecuario', 'IPMP Metales', 'IPMP Petróleo']\n",
    "\n",
    "# Dropping NAs:\n",
    "data = data.dropna()\n",
    "\n",
    "# Checking the result:\n",
    "print(\"Refined and Combined Dataset:\")\n",
    "print(data.head())\n",
    "\n",
    "# From DataFrame to CSV file:\n",
    "data.to_csv(\"../data/processed/combined_cleaned_data.csv\")\n"
   ]
  }
 ],
 "metadata": {
  "kernelspec": {
   "display_name": "venv",
   "language": "python",
   "name": "python3"
  },
  "language_info": {
   "codemirror_mode": {
    "name": "ipython",
    "version": 3
   },
   "file_extension": ".py",
   "mimetype": "text/x-python",
   "name": "python",
   "nbconvert_exporter": "python",
   "pygments_lexer": "ipython3",
   "version": "3.9.2"
  }
 },
 "nbformat": 4,
 "nbformat_minor": 2
}
