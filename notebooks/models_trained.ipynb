{
 "cells": [
  {
   "cell_type": "markdown",
   "metadata": {},
   "source": [
    "# Model Training: Inflation Prediction\n",
    "\n",
    "This notebook focuses on training two predictive models for inflation using time series and multivariate data: \n",
    "\n",
    "1. **AutoARIMA**: A model designed to handle time series data by automatically selecting the best parameters for ARIMA. This approach is univariate, focusing solely on the inflation target.\n",
    "2. **Multiple Linear Regression**: A multivariate regression model that leverages all stationary regressors to predict inflation.\n",
    "\n",
    "### Objectives:\n",
    "- Compare the performance of the two models using Mean Squared Error (MSE) as the evaluation metric.\n",
    "- Select the best-performing model for deployment in an MLOps pipeline.\n",
    "- Save the chosen model for further use and integration into the production system.\n",
    "\n",
    "### Methodology:\n",
    "- **Data Preparation**: Load the stationary dataset and split it into training and testing sets.\n",
    "- **Model Training**: Train both AutoARIMA and multiple linear regression models.\n",
    "- **Evaluation**: Assess model performance using the test set.\n",
    "- **Model Selection**: Choose the model with the lowest MSE for deployment.\n",
    "- **Output**: Save the selected model for future predictions.\n",
    "\n",
    "This notebook prioritizes simplicity and clarity, focusing on foundational modeling steps to ensure a smooth integration into the broader MLOps framework. Future iterations may include advanced modeling techniques or periodic retraining mechanisms."
   ]
  },
  {
   "cell_type": "code",
   "execution_count": 1,
   "metadata": {},
   "outputs": [],
   "source": [
    "import pandas as pd\n",
    "from sklearn.model_selection import train_test_split\n",
    "\n",
    "# Loading the dataset:\n",
    "data = pd.read_csv(\"../data/external/stationary_data.csv\", index_col=0, parse_dates=True)\n",
    "\n",
    "# Separate the independent variables (X) from target variable (y)\n",
    "target = \"inflation_diff\"\n",
    "X = data.drop(columns=[target])\n",
    "y = data[target]\n",
    "\n",
    "# Separate into train and test:\n",
    "X_train, X_test, y_train, y_test = train_test_split(X, y, test_size=0.2, random_state=42, shuffle=False)  # No shuffle in order to keep the order of time.\n"
   ]
  },
  {
   "cell_type": "code",
   "execution_count": 2,
   "metadata": {},
   "outputs": [
    {
     "name": "stdout",
     "output_type": "stream",
     "text": [
      "Performing stepwise search to minimize aic\n",
      " ARIMA(2,0,2)(1,0,1)[12] intercept   : AIC=374.895, Time=15.39 sec\n",
      " ARIMA(0,0,0)(0,0,0)[12] intercept   : AIC=402.174, Time=0.06 sec\n",
      " ARIMA(1,0,0)(1,0,0)[12] intercept   : AIC=399.746, Time=1.57 sec\n",
      " ARIMA(0,0,1)(0,0,1)[12] intercept   : AIC=397.606, Time=2.56 sec\n",
      " ARIMA(0,0,0)(0,0,0)[12]             : AIC=400.252, Time=0.03 sec\n",
      " ARIMA(2,0,2)(0,0,1)[12] intercept   : AIC=374.635, Time=10.83 sec\n",
      " ARIMA(2,0,2)(0,0,0)[12] intercept   : AIC=376.138, Time=5.28 sec\n",
      " ARIMA(2,0,2)(0,0,2)[12] intercept   : AIC=inf, Time=16.41 sec\n",
      " ARIMA(2,0,2)(1,0,0)[12] intercept   : AIC=373.471, Time=13.44 sec\n",
      " ARIMA(2,0,2)(2,0,0)[12] intercept   : AIC=inf, Time=20.17 sec\n",
      " ARIMA(2,0,2)(2,0,1)[12] intercept   : AIC=372.779, Time=22.94 sec\n",
      " ARIMA(2,0,2)(2,0,2)[12] intercept   : AIC=371.893, Time=19.84 sec\n",
      " ARIMA(2,0,2)(1,0,2)[12] intercept   : AIC=inf, Time=21.17 sec\n",
      " ARIMA(1,0,2)(2,0,2)[12] intercept   : AIC=inf, Time=18.84 sec\n",
      " ARIMA(2,0,1)(2,0,2)[12] intercept   : AIC=inf, Time=18.10 sec\n",
      " ARIMA(3,0,2)(2,0,2)[12] intercept   : AIC=373.537, Time=21.81 sec\n",
      " ARIMA(2,0,3)(2,0,2)[12] intercept   : AIC=366.987, Time=14.21 sec\n",
      " ARIMA(2,0,3)(1,0,2)[12] intercept   : AIC=366.219, Time=11.90 sec\n",
      " ARIMA(2,0,3)(0,0,2)[12] intercept   : AIC=364.785, Time=7.65 sec\n",
      " ARIMA(2,0,3)(0,0,1)[12] intercept   : AIC=inf, Time=14.17 sec\n",
      " ARIMA(2,0,3)(1,0,1)[12] intercept   : AIC=368.649, Time=9.19 sec\n",
      " ARIMA(1,0,3)(0,0,2)[12] intercept   : AIC=368.414, Time=7.23 sec\n",
      " ARIMA(3,0,3)(0,0,2)[12] intercept   : AIC=inf, Time=17.18 sec\n",
      " ARIMA(2,0,4)(0,0,2)[12] intercept   : AIC=360.033, Time=22.34 sec\n",
      " ARIMA(2,0,4)(0,0,1)[12] intercept   : AIC=363.382, Time=15.45 sec\n",
      " ARIMA(2,0,4)(1,0,2)[12] intercept   : AIC=360.422, Time=24.89 sec\n",
      " ARIMA(2,0,4)(1,0,1)[12] intercept   : AIC=363.327, Time=19.97 sec\n",
      " ARIMA(1,0,4)(0,0,2)[12] intercept   : AIC=369.606, Time=9.08 sec\n",
      " ARIMA(3,0,4)(0,0,2)[12] intercept   : AIC=inf, Time=27.79 sec\n",
      " ARIMA(2,0,5)(0,0,2)[12] intercept   : AIC=339.524, Time=24.98 sec\n",
      " ARIMA(2,0,5)(0,0,1)[12] intercept   : AIC=338.771, Time=20.53 sec\n",
      " ARIMA(2,0,5)(0,0,0)[12] intercept   : AIC=337.817, Time=18.65 sec\n",
      " ARIMA(2,0,5)(1,0,0)[12] intercept   : AIC=338.575, Time=22.11 sec\n",
      " ARIMA(2,0,5)(1,0,1)[12] intercept   : AIC=341.201, Time=22.04 sec\n",
      " ARIMA(1,0,5)(0,0,0)[12] intercept   : AIC=374.990, Time=7.22 sec\n",
      " ARIMA(2,0,4)(0,0,0)[12] intercept   : AIC=367.316, Time=13.22 sec\n",
      " ARIMA(3,0,5)(0,0,0)[12] intercept   : AIC=339.619, Time=15.48 sec\n",
      " ARIMA(1,0,4)(0,0,0)[12] intercept   : AIC=379.249, Time=6.62 sec\n",
      " ARIMA(3,0,4)(0,0,0)[12] intercept   : AIC=inf, Time=13.75 sec\n",
      " ARIMA(2,0,5)(0,0,0)[12]             : AIC=337.522, Time=10.99 sec\n",
      " ARIMA(2,0,5)(1,0,0)[12]             : AIC=338.481, Time=14.40 sec\n",
      " ARIMA(2,0,5)(0,0,1)[12]             : AIC=inf, Time=14.98 sec\n",
      " ARIMA(2,0,5)(1,0,1)[12]             : AIC=inf, Time=16.52 sec\n",
      " ARIMA(1,0,5)(0,0,0)[12]             : AIC=375.658, Time=8.57 sec\n",
      " ARIMA(2,0,4)(0,0,0)[12]             : AIC=365.857, Time=12.96 sec\n",
      " ARIMA(3,0,5)(0,0,0)[12]             : AIC=339.500, Time=19.44 sec\n",
      " ARIMA(1,0,4)(0,0,0)[12]             : AIC=377.936, Time=6.89 sec\n",
      " ARIMA(3,0,4)(0,0,0)[12]             : AIC=inf, Time=12.83 sec\n",
      "\n",
      "Best model:  ARIMA(2,0,5)(0,0,0)[12]          \n",
      "Total fit time: 691.722 seconds\n",
      "AutoARIMA RMSE: 2.8166\n"
     ]
    }
   ],
   "source": [
    "import warnings\n",
    "warnings.simplefilter(action='ignore', category=FutureWarning)\n",
    "\n",
    "import numpy as np\n",
    "\n",
    "from pmdarima import auto_arima\n",
    "from sklearn.metrics import mean_squared_error\n",
    "\n",
    "# Fitting an AutoARIMA over the target variable:\n",
    "arima_model = auto_arima(y_train, seasonal=True, m=12, trace=True, error_action='ignore', suppress_warnings=True)\n",
    "\n",
    "# Predicting:\n",
    "arima_forecast = arima_model.predict(n_periods=len(y_test))\n",
    "\n",
    "# RMSE:\n",
    "arima_rmse = np.sqrt(mean_squared_error(y_test, arima_forecast))\n",
    "print(f\"AutoARIMA RMSE: {arima_rmse:.4f}\")\n"
   ]
  },
  {
   "cell_type": "code",
   "execution_count": 3,
   "metadata": {},
   "outputs": [
    {
     "name": "stdout",
     "output_type": "stream",
     "text": [
      "Linear Regression RMSE: 12.7477\n"
     ]
    }
   ],
   "source": [
    "from sklearn.linear_model import LinearRegression\n",
    "\n",
    "# Model Training\n",
    "linear_model = LinearRegression()\n",
    "linear_model.fit(X_train, y_train)\n",
    "\n",
    "# Model predicting:\n",
    "linear_forecast = linear_model.predict(X_test)\n",
    "\n",
    "# RMSE:\n",
    "linear_rmse = np.sqrt(mean_squared_error(y_test, linear_forecast))\n",
    "print(f\"Linear Regression RMSE: {linear_rmse:.4f}\")"
   ]
  },
  {
   "cell_type": "code",
   "execution_count": 4,
   "metadata": {},
   "outputs": [
    {
     "name": "stdout",
     "output_type": "stream",
     "text": [
      "AutoARIMA as selected model\n",
      "Best model: AutoARIMA\n"
     ]
    }
   ],
   "source": [
    "if arima_rmse < linear_rmse:\n",
    "    print(\"AutoARIMA as selected model\")\n",
    "    best_model = arima_model\n",
    "    best_model_name = \"AutoARIMA\"\n",
    "else:\n",
    "    print(\"Linear Regression as selected model.\")\n",
    "    best_model = linear_model\n",
    "    best_model_name = \"Linear Regression\"\n",
    "\n",
    "print(f\"Best model: {best_model_name}\")"
   ]
  },
  {
   "cell_type": "code",
   "execution_count": 6,
   "metadata": {},
   "outputs": [
    {
     "name": "stdout",
     "output_type": "stream",
     "text": [
      "AutoARIMA saved on ../models/\n"
     ]
    }
   ],
   "source": [
    "import joblib\n",
    "\n",
    "# Save the best model\n",
    "joblib.dump(best_model, f\"../models/{best_model_name.lower().replace(' ', '_')}.pkl\")\n",
    "print(f\"{best_model_name} saved on ../models/\")"
   ]
  }
 ],
 "metadata": {
  "kernelspec": {
   "display_name": "venv",
   "language": "python",
   "name": "python3"
  },
  "language_info": {
   "codemirror_mode": {
    "name": "ipython",
    "version": 3
   },
   "file_extension": ".py",
   "mimetype": "text/x-python",
   "name": "python",
   "nbconvert_exporter": "python",
   "pygments_lexer": "ipython3",
   "version": "3.9.2"
  }
 },
 "nbformat": 4,
 "nbformat_minor": 2
}
